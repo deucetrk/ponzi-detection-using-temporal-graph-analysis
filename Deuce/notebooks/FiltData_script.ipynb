{
 "cells": [
  {
   "cell_type": "code",
   "execution_count": 1,
   "metadata": {},
   "outputs": [],
   "source": [
    "import pandas as pd\n",
    "from joblib import Parallel, delayed\n",
    "from tqdm import tqdm\n",
    "from multiprocessing import Manager\n",
    "import csv\n",
    "import time"
   ]
  },
  {
   "cell_type": "code",
   "execution_count": 2,
   "metadata": {},
   "outputs": [],
   "source": [
    "csv_file_path = \"aggregated_dataset.csv\"\n",
    "mfg_file_path = \"../dataset/processed_data.csv\"\n",
    "# Store aggregated_dataset.csv file in pandas DataFrame\n",
    "df_csv = pd.read_csv(csv_file_path)\n",
    "\n",
    "# Store MFG transaction in pandas DataFrame\n",
    "df_mfg = pd.read_csv(mfg_file_path)"
   ]
  },
  {
   "cell_type": "markdown",
   "metadata": {},
   "source": [
    "# First-degree Neighbors"
   ]
  },
  {
   "cell_type": "code",
   "execution_count": 3,
   "metadata": {},
   "outputs": [
    {
     "name": "stdout",
     "output_type": "stream",
     "text": [
      "Total Direct Transactions (tx-direct) :485205\n",
      "\n",
      "Total Set of First Degree Neighbours(F) :362012\n",
      "\n",
      "Total Set of First Degree Transcations (Edges) :29418984\n"
     ]
    }
   ],
   "source": [
    "# Store list of index from aggregate_data.csv file to a set named D0\n",
    "\n",
    "D0 = set(df_csv['index'].tolist())         # D0 is the set of 3422 Smart Contract Index\n",
    "\n",
    "# From MFG Transactions , filter all those transactions where the Smart Contract index are either recieving money or sending money.\n",
    "\n",
    "df_source_sc_target_all = df_mfg[df_mfg['source'].isin(D0)]\n",
    "df_source_all_target_sc = df_mfg[df_mfg['target'].isin(D0)]\n",
    "\n",
    "# The total count of these transactions give us Direct Transactions (txd)\n",
    "\n",
    "txd = df_source_sc_target_all.shape[0] + df_source_all_target_sc.shape[0]\n",
    "\n",
    "print(f\"Total Direct Transactions (tx-direct) :{txd}\")\n",
    "print(\"\")\n",
    "\n",
    "# Find all adresses which are used in above transactions . These are either the addresses which recieve money from Smart Contract\n",
    "# or the addresses which send money to Smart Contract . \n",
    "# Also , there are possiblity of Smart Contracts sending / recieving money among themselves.\n",
    "\n",
    "unique_src_1 = df_source_sc_target_all.source\n",
    "unique_tar_1 = df_source_sc_target_all.target\n",
    "unique_src_2 = df_source_all_target_sc.source\n",
    "unique_tar_2 = df_source_all_target_sc.target\n",
    "\n",
    "F_list = unique_src_1.tolist()+unique_tar_1.tolist()+unique_src_2.tolist()+unique_tar_2.tolist()\n",
    "\n",
    "# Remove Duplicate addresses , These are the First Degree Neighbors for all 3422 Smart Contracts\n",
    "\n",
    "F_addresses = set(F_list)\n",
    "\n",
    "F = len(F_addresses)\n",
    "\n",
    "print(f\"Total Set of First Degree Neighbours(F) :{F}\")\n",
    "print(\"\")\n",
    "\n",
    "# Now , We identify all those transactions in which these First Degree Neighbors are either at sending end or recieving end.\n",
    "\n",
    "df_fn = df_mfg[(df_mfg['source'].isin(F_addresses)) | (df_mfg['target'].isin(F_addresses))]\n",
    "efd = df_fn.shape[0]\n",
    "\n",
    "print(f\"Total Set of First Degree Transcations (Edges) :{efd}\")"
   ]
  },
  {
   "cell_type": "markdown",
   "metadata": {},
   "source": [
    "# Second-degree Neighbors"
   ]
  },
  {
   "cell_type": "code",
   "execution_count": null,
   "metadata": {},
   "outputs": [
    {
     "name": "stderr",
     "output_type": "stream",
     "text": []
    },
    {
     "name": "stdout",
     "output_type": "stream",
     "text": [
      "Processed 325000 neighbors. Time for last neighbor: 0.11s\n"
     ]
    },
    {
     "name": "stderr",
     "output_type": "stream",
     "text": []
    },
    {
     "name": "stdout",
     "output_type": "stream",
     "text": [
      "Processed 326000 neighbors. Time for last neighbor: 0.11s\n"
     ]
    },
    {
     "name": "stderr",
     "output_type": "stream",
     "text": []
    },
    {
     "name": "stdout",
     "output_type": "stream",
     "text": [
      "Processed 327000 neighbors. Time for last neighbor: 0.11s\n"
     ]
    },
    {
     "name": "stderr",
     "output_type": "stream",
     "text": []
    },
    {
     "name": "stdout",
     "output_type": "stream",
     "text": [
      "Processed 328000 neighbors. Time for last neighbor: 0.11s\n"
     ]
    },
    {
     "name": "stderr",
     "output_type": "stream",
     "text": []
    },
    {
     "name": "stdout",
     "output_type": "stream",
     "text": [
      "Processed 329000 neighbors. Time for last neighbor: 0.11s\n"
     ]
    },
    {
     "name": "stderr",
     "output_type": "stream",
     "text": []
    },
    {
     "name": "stdout",
     "output_type": "stream",
     "text": [
      "Processed 330000 neighbors. Time for last neighbor: 0.10s\n"
     ]
    },
    {
     "name": "stderr",
     "output_type": "stream",
     "text": []
    },
    {
     "name": "stdout",
     "output_type": "stream",
     "text": [
      "Processed 331000 neighbors. Time for last neighbor: 0.10s\n"
     ]
    },
    {
     "name": "stderr",
     "output_type": "stream",
     "text": []
    },
    {
     "name": "stdout",
     "output_type": "stream",
     "text": [
      "Processed 332000 neighbors. Time for last neighbor: 0.12s\n"
     ]
    },
    {
     "name": "stderr",
     "output_type": "stream",
     "text": []
    },
    {
     "name": "stdout",
     "output_type": "stream",
     "text": [
      "Processed 333000 neighbors. Time for last neighbor: 0.11s\n"
     ]
    },
    {
     "name": "stderr",
     "output_type": "stream",
     "text": []
    },
    {
     "name": "stdout",
     "output_type": "stream",
     "text": [
      "Processed 334000 neighbors. Time for last neighbor: 0.11s\n"
     ]
    },
    {
     "name": "stderr",
     "output_type": "stream",
     "text": []
    },
    {
     "name": "stdout",
     "output_type": "stream",
     "text": [
      "Processed 335000 neighbors. Time for last neighbor: 0.11s\n"
     ]
    },
    {
     "name": "stderr",
     "output_type": "stream",
     "text": []
    },
    {
     "name": "stdout",
     "output_type": "stream",
     "text": [
      "Processed 336000 neighbors. Time for last neighbor: 0.13s\n"
     ]
    },
    {
     "name": "stderr",
     "output_type": "stream",
     "text": []
    },
    {
     "name": "stdout",
     "output_type": "stream",
     "text": [
      "Processed 337000 neighbors. Time for last neighbor: 0.11s\n"
     ]
    },
    {
     "name": "stderr",
     "output_type": "stream",
     "text": []
    },
    {
     "name": "stdout",
     "output_type": "stream",
     "text": [
      "Processed 338000 neighbors. Time for last neighbor: 0.12s\n"
     ]
    },
    {
     "name": "stderr",
     "output_type": "stream",
     "text": []
    },
    {
     "name": "stdout",
     "output_type": "stream",
     "text": [
      "Processed 339000 neighbors. Time for last neighbor: 0.11s\n"
     ]
    },
    {
     "name": "stderr",
     "output_type": "stream",
     "text": []
    },
    {
     "name": "stdout",
     "output_type": "stream",
     "text": [
      "Processed 340000 neighbors. Time for last neighbor: 0.12s\n"
     ]
    },
    {
     "name": "stderr",
     "output_type": "stream",
     "text": []
    },
    {
     "name": "stdout",
     "output_type": "stream",
     "text": [
      "Processed 341000 neighbors. Time for last neighbor: 0.11s\n"
     ]
    },
    {
     "name": "stderr",
     "output_type": "stream",
     "text": []
    },
    {
     "name": "stdout",
     "output_type": "stream",
     "text": [
      "Processed 342000 neighbors. Time for last neighbor: 0.12s\n"
     ]
    },
    {
     "name": "stderr",
     "output_type": "stream",
     "text": []
    },
    {
     "name": "stdout",
     "output_type": "stream",
     "text": [
      "Processed 343000 neighbors. Time for last neighbor: 0.11s\n"
     ]
    },
    {
     "name": "stderr",
     "output_type": "stream",
     "text": []
    },
    {
     "name": "stdout",
     "output_type": "stream",
     "text": [
      "Processed 344000 neighbors. Time for last neighbor: 0.13s\n"
     ]
    },
    {
     "name": "stderr",
     "output_type": "stream",
     "text": []
    },
    {
     "name": "stdout",
     "output_type": "stream",
     "text": [
      "Processed 345000 neighbors. Time for last neighbor: 0.12s\n"
     ]
    },
    {
     "name": "stderr",
     "output_type": "stream",
     "text": []
    },
    {
     "name": "stdout",
     "output_type": "stream",
     "text": [
      "Processed 346000 neighbors. Time for last neighbor: 0.11s\n"
     ]
    },
    {
     "name": "stderr",
     "output_type": "stream",
     "text": []
    },
    {
     "name": "stdout",
     "output_type": "stream",
     "text": [
      "Processed 347000 neighbors. Time for last neighbor: 0.12s\n"
     ]
    },
    {
     "name": "stderr",
     "output_type": "stream",
     "text": []
    },
    {
     "name": "stdout",
     "output_type": "stream",
     "text": [
      "Processed 348000 neighbors. Time for last neighbor: 0.11s\n"
     ]
    },
    {
     "name": "stderr",
     "output_type": "stream",
     "text": []
    },
    {
     "name": "stdout",
     "output_type": "stream",
     "text": [
      "Processed 349000 neighbors. Time for last neighbor: 0.12s\n"
     ]
    },
    {
     "name": "stderr",
     "output_type": "stream",
     "text": []
    },
    {
     "name": "stdout",
     "output_type": "stream",
     "text": [
      "Processed 350000 neighbors. Time for last neighbor: 0.12s\n"
     ]
    },
    {
     "name": "stderr",
     "output_type": "stream",
     "text": []
    },
    {
     "name": "stdout",
     "output_type": "stream",
     "text": [
      "Processed 351000 neighbors. Time for last neighbor: 0.11s\n"
     ]
    },
    {
     "name": "stderr",
     "output_type": "stream",
     "text": []
    },
    {
     "name": "stdout",
     "output_type": "stream",
     "text": [
      "Processed 352000 neighbors. Time for last neighbor: 0.11s\n"
     ]
    },
    {
     "name": "stderr",
     "output_type": "stream",
     "text": []
    },
    {
     "name": "stdout",
     "output_type": "stream",
     "text": [
      "Processed 353000 neighbors. Time for last neighbor: 0.10s\n"
     ]
    },
    {
     "name": "stderr",
     "output_type": "stream",
     "text": []
    },
    {
     "name": "stdout",
     "output_type": "stream",
     "text": [
      "Processed 354000 neighbors. Time for last neighbor: 0.10s\n"
     ]
    },
    {
     "name": "stderr",
     "output_type": "stream",
     "text": []
    },
    {
     "name": "stdout",
     "output_type": "stream",
     "text": [
      "Processed 355000 neighbors. Time for last neighbor: 0.12s\n"
     ]
    },
    {
     "name": "stderr",
     "output_type": "stream",
     "text": []
    },
    {
     "name": "stdout",
     "output_type": "stream",
     "text": [
      "Processed 356000 neighbors. Time for last neighbor: 0.10s\n"
     ]
    },
    {
     "name": "stderr",
     "output_type": "stream",
     "text": []
    },
    {
     "name": "stdout",
     "output_type": "stream",
     "text": [
      "Processed 357000 neighbors. Time for last neighbor: 0.10s\n"
     ]
    },
    {
     "name": "stderr",
     "output_type": "stream",
     "text": []
    },
    {
     "name": "stdout",
     "output_type": "stream",
     "text": [
      "Processed 358000 neighbors. Time for last neighbor: 0.11s\n"
     ]
    },
    {
     "name": "stderr",
     "output_type": "stream",
     "text": []
    },
    {
     "name": "stdout",
     "output_type": "stream",
     "text": [
      "Processed 359000 neighbors. Time for last neighbor: 0.10s\n"
     ]
    },
    {
     "name": "stderr",
     "output_type": "stream",
     "text": []
    },
    {
     "name": "stdout",
     "output_type": "stream",
     "text": [
      "Processed 360000 neighbors. Time for last neighbor: 0.10s\n"
     ]
    },
    {
     "name": "stderr",
     "output_type": "stream",
     "text": []
    },
    {
     "name": "stdout",
     "output_type": "stream",
     "text": [
      "Processed 361000 neighbors. Time for last neighbor: 0.11s\n"
     ]
    },
    {
     "name": "stderr",
     "output_type": "stream",
     "text": []
    },
    {
     "name": "stdout",
     "output_type": "stream",
     "text": [
      "Processed 362000 neighbors. Time for last neighbor: 0.10s\n"
     ]
    },
    {
     "name": "stderr",
     "output_type": "stream",
     "text": [
      "Processing First-Degree Neighbors: 100%|██████████| 362012/362012 [13:31:45<00:00,  7.43it/s]"
     ]
    },
    {
     "name": "stdout",
     "output_type": "stream",
     "text": [
      "Processing complete. Total neighbors: 7258\n",
      "Total second-degree transactions: 13114\n"
     ]
    },
    {
     "name": "stderr",
     "output_type": "stream",
     "text": [
      "\n"
     ]
    }
   ],
   "source": [
    "# Process a single first-degree neighbor\n",
    "def process_first_degree_neighbor(neighbor):\n",
    "    \"\"\"Process transactions for a single first-degree neighbor.\"\"\"\n",
    "    result = {\n",
    "        \"second_degree_neighbors\": [],  # List of second-degree neighbors (duplicates allowed)\n",
    "        \"transactions\": []  # List of transactions for second-degree neighbors\n",
    "    }\n",
    "    # Filter transactions where the first-degree neighbor is source or target\n",
    "    df_second_degree = df_mfg[(df_mfg['source'] == neighbor) | (df_mfg['target'] == neighbor)]\n",
    "    \n",
    "    # Collect second-degree neighbors\n",
    "    second_degree_neighbors = df_second_degree['source'].tolist() + df_second_degree['target'].tolist()\n",
    "    second_degree_neighbors = [n for n in second_degree_neighbors if n not in F_addresses and n not in D0]\n",
    "    result[\"second_degree_neighbors\"] = second_degree_neighbors\n",
    "    \n",
    "    # Store the transactions (source, target, value)\n",
    "    result[\"transactions\"].extend(df_second_degree[['source', 'target', 'value']].values.tolist())\n",
    "    \n",
    "    return result\n",
    "\n",
    "# Main processing loop\n",
    "if __name__ == \"__main__\":\n",
    "    print(\"Processing first-degree neighbors one by one...\")\n",
    "\n",
    "    total_second_degree_neighbors = []\n",
    "    total_second_degree_transactions = []\n",
    "\n",
    "    for idx, neighbor in enumerate(tqdm(F_addresses, desc=\"Processing First-Degree Neighbors\")):\n",
    "        start_time = time.time()\n",
    "        result = process_first_degree_neighbor(neighbor)\n",
    "        total_second_degree_neighbors.extend(result[\"second_degree_neighbors\"])\n",
    "        total_second_degree_transactions.extend(result[\"transactions\"])\n",
    "        end_time = time.time()\n",
    "\n",
    "        # Print debugging information\n",
    "        if idx % 1000 == 0:\n",
    "            print(f\"Processed {idx} neighbors. Time for last neighbor: {end_time - start_time:.2f}s\")\n",
    "\n",
    "        # Save partial results every 10,000 neighbors\n",
    "        if idx % 10000 == 0:\n",
    "            with open(\"partial_second_neighbors.txt\", \"a\") as f:\n",
    "                for neighbor in total_second_degree_neighbors:\n",
    "                    f.write(f\"{neighbor}\\n\")\n",
    "            with open(\"partial_esd.csv\", \"a\", newline=\"\") as f:\n",
    "                writer = csv.writer(f)\n",
    "                writer.writerows(total_second_degree_transactions)\n",
    "            total_second_degree_neighbors.clear()  # Clear bufferz \n",
    "            total_second_degree_transactions.clear()\n",
    "\n",
    "    # Final Save\n",
    "    with open(\"second_neighbors.txt\", \"w\") as f:\n",
    "        for neighbor in total_second_degree_neighbors:\n",
    "            f.write(f\"{neighbor}\\n\")\n",
    "    with open(\"esd.csv\", \"w\", newline=\"\") as f:\n",
    "        writer = csv.writer(f)\n",
    "        writer.writerow([\"source\", \"target\", \"value\"])  # Header\n",
    "        writer.writerows(total_second_degree_transactions)\n",
    "\n",
    "    print(f\"Processing complete. Total neighbors: {len(total_second_degree_neighbors)}\")\n",
    "    print(f\"Total second-degree transactions: {len(total_second_degree_transactions)}\")"
   ]
  },
  {
   "cell_type": "code",
   "execution_count": null,
   "metadata": {},
   "outputs": [],
   "source": [
    "import gc\n",
    "i = 0\n",
    " \n",
    "# create a cycle and on each iteration x as a dictionary\n",
    "# assigned to 1\n",
    "def create_cycle():\n",
    "    x = { }\n",
    "    x[i+1] = x\n",
    "    print(x)\n",
    " \n",
    "# lists are cleared whenever a full collection or \n",
    "# collection of the highest generation (2) is run\n",
    "collected = gc.collect() # or gc.collect(2)\n",
    "print(\"Garbage collector: collected %d objects.\" % (collected))\n",
    " \n",
    "print(\"Creating cycles...\")\n",
    "for i in range(10):\n",
    "    create_cycle()\n",
    " \n",
    "collected = gc.collect()\n",
    " \n",
    "print(\"Garbage collector: collected %d objects.\" % (collected))"
   ]
  }
 ],
 "metadata": {
  "kernelspec": {
   "display_name": ".venv",
   "language": "python",
   "name": "python3"
  },
  "language_info": {
   "codemirror_mode": {
    "name": "ipython",
    "version": 3
   },
   "file_extension": ".py",
   "mimetype": "text/x-python",
   "name": "python",
   "nbconvert_exporter": "python",
   "pygments_lexer": "ipython3",
   "version": "3.12.3"
  }
 },
 "nbformat": 4,
 "nbformat_minor": 2
}
